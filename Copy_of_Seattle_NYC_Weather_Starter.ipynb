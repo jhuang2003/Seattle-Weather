{
  "nbformat": 4,
  "nbformat_minor": 0,
  "metadata": {
    "colab": {
      "provenance": [],
      "collapsed_sections": [
        "ammvmQM4Wg8C",
        "bylV4IbzfhM-"
      ],
      "include_colab_link": true
    },
    "kernelspec": {
      "name": "python3",
      "display_name": "Python 3"
    },
    "language_info": {
      "name": "python"
    }
  },
  "cells": [
    {
      "cell_type": "markdown",
      "metadata": {
        "id": "view-in-github",
        "colab_type": "text"
      },
      "source": [
        "<a href=\"https://colab.research.google.com/github/jhuang2003/Seattle-Weather/blob/main/Copy_of_Seattle_NYC_Weather_Starter.ipynb\" target=\"_parent\"><img src=\"https://colab.research.google.com/assets/colab-badge.svg\" alt=\"Open In Colab\"/></a>"
      ]
    },
    {
      "cell_type": "markdown",
      "source": [
        "## Objectives"
      ],
      "metadata": {
        "id": "ikEswQeLypvl"
      }
    },
    {
      "cell_type": "markdown",
      "source": [
        "1. Learn the data science methodology using a project that does not involve advanced statistical methods.\n",
        "\n",
        "2. Learn to use Python for data science.\n",
        "\n",
        "3. Be able to ask questions about data and find answers."
      ],
      "metadata": {
        "id": "NRHjlJZbyueM"
      }
    },
    {
      "cell_type": "code",
      "source": [],
      "metadata": {
        "id": "kpnqmpEDfXp1"
      },
      "execution_count": null,
      "outputs": []
    },
    {
      "cell_type": "markdown",
      "source": [
        "## Introduction"
      ],
      "metadata": {
        "id": "cOSJyABoshOK"
      }
    },
    {
      "cell_type": "markdown",
      "source": [
        "Provide a brief introduction to the purpose of this notebook."
      ],
      "metadata": {
        "id": "26hIPGtBsi7g"
      }
    },
    {
      "cell_type": "markdown",
      "source": [
        "## Import libraries"
      ],
      "metadata": {
        "id": "dwvtDMCYlPus"
      }
    },
    {
      "cell_type": "code",
      "execution_count": null,
      "metadata": {
        "id": "DQZAzYri_ru5"
      },
      "outputs": [],
      "source": [
        "import pandas as pd\n",
        "import numpy as np\n",
        "import matplotlib.pyplot as plt\n",
        "import seaborn as sns\n",
        "sns.set_theme(style='whitegrid')\n",
        "import missingno as msno"
      ]
    },
    {
      "cell_type": "markdown",
      "source": [
        "## Load the data"
      ],
      "metadata": {
        "id": "5qccuG8vy7Ja"
      }
    },
    {
      "cell_type": "markdown",
      "source": [
        "The NOAA National Centers for Environmental Information provides access to many types of environmental data, including records of daily precipitation.\n",
        "\n",
        "We can use their [website](https://www.ncei.noaa.gov/cdo-web/search?datasetid=GHCND) to request records of daily precipitation from Seattle and New York (or other locations of interest) for the 3 year period January 2020 - January 2024.\n",
        "\n",
        "I have already obtained the data. The data are available at this [github repository](https://github.com/galenegan/DATA-3320/tree/main/weather) and are called `seattle_rain.csv` and `ny_rain.csv`."
      ],
      "metadata": {
        "id": "fDJ80Omny91y"
      }
    },
    {
      "cell_type": "markdown",
      "source": [
        "Load the Seattle data set"
      ],
      "metadata": {
        "id": "7eodKzMZl5h9"
      }
    },
    {
      "cell_type": "code",
      "source": [
        "df_seattle = pd.read_csv('https://raw.githubusercontent.com/galenegan/DATA-3320/main/weather/seattle_rain.csv')"
      ],
      "metadata": {
        "id": "TpRcvNoalbnG"
      },
      "execution_count": null,
      "outputs": []
    },
    {
      "cell_type": "markdown",
      "source": [
        "Load the New York data set"
      ],
      "metadata": {
        "id": "_Tv9XW6rxTCz"
      }
    },
    {
      "cell_type": "code",
      "source": [
        "df_ny = pd.read_csv('https://raw.githubusercontent.com/galenegan/DATA-3320/main/weather/ny_rain.csv')"
      ],
      "metadata": {
        "id": "eaK927g8xTCz"
      },
      "execution_count": null,
      "outputs": []
    },
    {
      "cell_type": "markdown",
      "source": [
        "## Explore the Contents of the Datasets"
      ],
      "metadata": {
        "id": "KtNGI3W6gr6m"
      }
    },
    {
      "cell_type": "code",
      "source": [],
      "metadata": {
        "id": "uT1AQUJUgvOM"
      },
      "execution_count": null,
      "outputs": []
    },
    {
      "cell_type": "markdown",
      "source": [
        "## Do any data types need to be converted?"
      ],
      "metadata": {
        "id": "3NLu5U26gwdO"
      }
    },
    {
      "cell_type": "markdown",
      "source": [
        "**Are there any variables that seem to be coded incorrectly? For example, are there any numerical variable encoded as strings?**"
      ],
      "metadata": {
        "id": "9-yGq2m4hXZJ"
      }
    },
    {
      "cell_type": "code",
      "source": [],
      "metadata": {
        "id": "E9puYpDAhDdO"
      },
      "execution_count": null,
      "outputs": []
    },
    {
      "cell_type": "markdown",
      "source": [
        "## Are the data suitable for answering the question?"
      ],
      "metadata": {
        "id": "35pKxSfb2zIs"
      }
    },
    {
      "cell_type": "markdown",
      "source": [
        "We want to perform quick exploratory data analysis to determine whether the data are sufficient to answer our question. If the data are not sufficient, we do not want to waste time doing anything that will not be productive."
      ],
      "metadata": {
        "id": "kywuWQaG22rv"
      }
    },
    {
      "cell_type": "markdown",
      "source": [
        "**What can we do to check whether the data are suitable?**"
      ],
      "metadata": {
        "id": "dhxuRWck7cb9"
      }
    },
    {
      "cell_type": "markdown",
      "source": [
        "<pre>\n",
        "\n",
        "\n",
        "\n",
        "\n",
        "\n",
        "\n",
        "</pre>\n"
      ],
      "metadata": {
        "id": "iTrBxFqK7in8"
      }
    },
    {
      "cell_type": "markdown",
      "source": [
        "## Select relevant subsets of the data"
      ],
      "metadata": {
        "id": "HbsdH56_ijIS"
      }
    },
    {
      "cell_type": "markdown",
      "source": [
        "**Is there anything that we should remove from the data sets that is unnecessary?**"
      ],
      "metadata": {
        "id": "IAl1mIPA8oRn"
      }
    },
    {
      "cell_type": "markdown",
      "source": [
        "<pre>\n",
        "\n",
        "\n",
        "\n",
        "\n",
        "\n",
        "\n",
        "\n",
        "\n",
        "\n",
        "\n",
        "\n",
        "\n",
        "\n",
        "\n",
        "\n",
        "\n",
        "\n",
        "\n",
        "\n",
        "</pre>"
      ],
      "metadata": {
        "id": "c4KEECP08yrf"
      }
    },
    {
      "cell_type": "markdown",
      "source": [
        "## Tutorial: Selecting subsets of a DataFrame"
      ],
      "metadata": {
        "id": "tNt9nJ6u9Et8"
      }
    }
  ]
}